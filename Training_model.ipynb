{
 "cells": [
  {
   "cell_type": "markdown",
   "metadata": {},
   "source": [
    "IMPORTING LIBRARIES"
   ]
  },
  {
   "cell_type": "code",
   "execution_count": 1,
   "metadata": {},
   "outputs": [],
   "source": [
    "from stable_baselines3 import DQN, PPO\n",
    "from stable_baselines3.common.evaluation import evaluate_policy\n",
    "from stable_baselines3.common.vec_env import DummyVecEnv, VecNormalize\n",
    "from sb3_contrib.common.wrappers import ActionMasker\n",
    "from deterioration_model import bridgedeterioration\n",
    "import numpy as np\n",
    "import gymnasium as gym\n",
    "import torch as th"
   ]
  },
  {
   "cell_type": "code",
   "execution_count": 2,
   "metadata": {},
   "outputs": [],
   "source": [
    "import logging\n",
    "logging.basicConfig(level=logging.DEBUG)  # or logging.INFO"
   ]
  },
  {
   "cell_type": "code",
   "execution_count": 3,
   "metadata": {},
   "outputs": [],
   "source": [
    "env = bridgedeterioration(df_path='bridge_data.csv')\n",
    "\n",
    "# Wrap the environment with DummyVecEnv\n",
    "env = DummyVecEnv([lambda: env])\n",
    "\n",
    "# Normalize the observations and rewards\n",
    "env = VecNormalize(env, norm_obs=True, norm_reward= True, clip_obs= float('inf'))"
   ]
  },
  {
   "cell_type": "code",
   "execution_count": 4,
   "metadata": {},
   "outputs": [
    {
     "data": {
      "text/plain": [
       "array([ 4000.,  8000.,  8000.,  4000.,  4000.,  4000.,  4000.,  4000.,\n",
       "        4000.,  4000.,  4000.,  4000.,  4000.,  4000., 20000.],\n",
       "      dtype=float32)"
      ]
     },
     "execution_count": 4,
     "metadata": {},
     "output_type": "execute_result"
    }
   ],
   "source": [
    "env_unwrapped = env.envs[0]\n",
    "obs = env_unwrapped.reset()\n",
    "obs = obs[0]\n",
    "np.round(obs[:,0])"
   ]
  },
  {
   "cell_type": "code",
   "execution_count": 5,
   "metadata": {},
   "outputs": [
    {
     "name": "stdout",
     "output_type": "stream",
     "text": [
      "Using cpu device\n"
     ]
    },
    {
     "data": {
      "text/plain": [
       "<stable_baselines3.ppo.ppo.PPO at 0x1db16cf8790>"
      ]
     },
     "execution_count": 5,
     "metadata": {},
     "output_type": "execute_result"
    }
   ],
   "source": [
    "policy_kwargs = dict(activation_fn=th.nn.ReLU, net_arch=[128, 128])\n",
    "env.reset()\n",
    "model = PPO(\"MlpPolicy\", env, n_epochs = 10, learning_rate=0.01, batch_size = 32, gamma = 0.99, policy_kwargs= policy_kwargs,verbose=2)\n",
    "model.learn(total_timesteps=200, log_interval=4)"
   ]
  },
  {
   "cell_type": "code",
   "execution_count": 6,
   "metadata": {},
   "outputs": [
    {
     "name": "stderr",
     "output_type": "stream",
     "text": [
      "d:\\anaconda3\\envs\\rllib\\Lib\\site-packages\\stable_baselines3\\common\\evaluation.py:67: UserWarning: Evaluation environment is not wrapped with a ``Monitor`` wrapper. This may result in reporting modified episode lengths and rewards, if other wrappers happen to modify these. Consider wrapping environment first with ``Monitor`` wrapper.\n",
      "  warnings.warn(\n"
     ]
    },
    {
     "name": "stdout",
     "output_type": "stream",
     "text": [
      "Mean reward: -8255160.003173828 ± 0.0\n"
     ]
    }
   ],
   "source": [
    "env.training = False # Setting env to unnormalized state\n",
    "env.norm_reward = False\n",
    "\n",
    "mean_reward, std_reward = evaluate_policy(model, env, n_eval_episodes=100, deterministic= True)\n",
    "print(f\"Mean reward: {mean_reward} ± {std_reward}\")"
   ]
  }
 ],
 "metadata": {
  "kernelspec": {
   "display_name": "rllib",
   "language": "python",
   "name": "python3"
  },
  "language_info": {
   "codemirror_mode": {
    "name": "ipython",
    "version": 3
   },
   "file_extension": ".py",
   "mimetype": "text/x-python",
   "name": "python",
   "nbconvert_exporter": "python",
   "pygments_lexer": "ipython3",
   "version": "3.11.11"
  }
 },
 "nbformat": 4,
 "nbformat_minor": 2
}
